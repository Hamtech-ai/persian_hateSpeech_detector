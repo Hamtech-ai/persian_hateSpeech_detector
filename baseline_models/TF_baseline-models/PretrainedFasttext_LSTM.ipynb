{
 "cells": [
  {
   "cell_type": "code",
   "execution_count": 4,
   "metadata": {
    "id": "S71Yr-rQcntd"
   },
   "outputs": [],
   "source": [
    "import matplotlib.pyplot as plt\n",
    "import pandas as pd \n",
    "import numpy as np\n",
    "from tensorflow.keras.models import Sequential\n",
    "from tensorflow.keras.layers import Bidirectional,GlobalMaxPooling1D\n",
    "from tensorflow.keras.layers import Embedding,LSTM,Dropout,Dense,SpatialDropout1D\n",
    "from tensorflow.keras.callbacks import ModelCheckpoint\n",
    "from tensorflow.keras.losses import binary_crossentropy,SparseCategoricalCrossentropy,categorical_crossentropy\n",
    "from tensorflow.keras.preprocessing.text import Tokenizer\n",
    "from tensorflow.keras.preprocessing.sequence import pad_sequences\n",
    "from sklearn.metrics import roc_auc_score\n",
    "from sklearn.model_selection import train_test_split\n",
    "from sh import gunzip\n",
    "import os\n",
    "import tensorflow.keras as keras"
   ]
  },
  {
   "cell_type": "code",
   "execution_count": 5,
   "metadata": {
    "id": "dFAukOK5a85U"
   },
   "outputs": [],
   "source": [
    "import zipfile\n",
    "with zipfile.ZipFile('alldata.zip', 'r') as zip_ref:\n",
    "    zip_ref.extractall()"
   ]
  },
  {
   "cell_type": "markdown",
   "metadata": {},
   "source": [
    "# version 2 of dataset"
   ]
  },
  {
   "cell_type": "code",
   "execution_count": 5,
   "metadata": {
    "colab": {
     "base_uri": "https://localhost:8080/"
    },
    "id": "riai8Sca3PWU",
    "outputId": "c1361c63-32d8-40cd-f68f-e4c716e40ccc"
   },
   "outputs": [
    {
     "name": "stdout",
     "output_type": "stream",
     "text": [
      "<class 'pandas.core.frame.DataFrame'>\n",
      "RangeIndex: 620007 entries, 0 to 620006\n",
      "Data columns (total 2 columns):\n",
      " #   Column  Non-Null Count   Dtype \n",
      "---  ------  --------------   ----- \n",
      " 0   text    620007 non-null  object\n",
      " 1   label   620007 non-null  int64 \n",
      "dtypes: int64(1), object(1)\n",
      "memory usage: 9.5+ MB\n"
     ]
    }
   ],
   "source": [
    "df=pd.read_csv('data.csv')\n",
    "df.info()"
   ]
  },
  {
   "cell_type": "code",
   "execution_count": 10,
   "metadata": {},
   "outputs": [
    {
     "data": {
      "text/html": [
       "<div>\n",
       "<style scoped>\n",
       "    .dataframe tbody tr th:only-of-type {\n",
       "        vertical-align: middle;\n",
       "    }\n",
       "\n",
       "    .dataframe tbody tr th {\n",
       "        vertical-align: top;\n",
       "    }\n",
       "\n",
       "    .dataframe thead th {\n",
       "        text-align: right;\n",
       "    }\n",
       "</style>\n",
       "<table border=\"1\" class=\"dataframe\">\n",
       "  <thead>\n",
       "    <tr style=\"text-align: right;\">\n",
       "      <th></th>\n",
       "      <th>text</th>\n",
       "      <th>label</th>\n",
       "    </tr>\n",
       "  </thead>\n",
       "  <tbody>\n",
       "    <tr>\n",
       "      <th>70</th>\n",
       "      <td>سلام قای شانه چی عزیز خسته نباشی من امروز یه ...</td>\n",
       "      <td>0</td>\n",
       "    </tr>\n",
       "    <tr>\n",
       "      <th>71</th>\n",
       "      <td>سلام دوستان  من کمتر از یک سال پیش  2   رو گرف...</td>\n",
       "      <td>0</td>\n",
       "    </tr>\n",
       "    <tr>\n",
       "      <th>72</th>\n",
       "      <td>تو حرف از کار گروهی نزن الدنگ با دو روز باز...</td>\n",
       "      <td>1</td>\n",
       "    </tr>\n",
       "    <tr>\n",
       "      <th>73</th>\n",
       "      <td>لطفا در مورد دانا هم راهنمایی بفرمایید</td>\n",
       "      <td>0</td>\n",
       "    </tr>\n",
       "    <tr>\n",
       "      <th>74</th>\n",
       "      <td>نگهداری فعلا</td>\n",
       "      <td>0</td>\n",
       "    </tr>\n",
       "    <tr>\n",
       "      <th>75</th>\n",
       "      <td>واقعا معتبره خبر من دوتاشو دارم</td>\n",
       "      <td>0</td>\n",
       "    </tr>\n",
       "    <tr>\n",
       "      <th>76</th>\n",
       "      <td>درصد خوباشم نیگاه میکنه پدرسوخته بد برا ما اش...</td>\n",
       "      <td>1</td>\n",
       "    </tr>\n",
       "    <tr>\n",
       "      <th>77</th>\n",
       "      <td>سنیر دارند جمع میکنند از صف فروش</td>\n",
       "      <td>0</td>\n",
       "    </tr>\n",
       "    <tr>\n",
       "      <th>78</th>\n",
       "      <td>دوستان پی ا س 4 خیلی بهتر از ایکس باکس هست ازن...</td>\n",
       "      <td>0</td>\n",
       "    </tr>\n",
       "    <tr>\n",
       "      <th>79</th>\n",
       "      <td>دوستان نوین رو چی کار کنم</td>\n",
       "      <td>0</td>\n",
       "    </tr>\n",
       "  </tbody>\n",
       "</table>\n",
       "</div>"
      ],
      "text/plain": [
       "                                                 text  label\n",
       "70   سلام قای شانه چی عزیز خسته نباشی من امروز یه ...      0\n",
       "71  سلام دوستان  من کمتر از یک سال پیش  2   رو گرف...      0\n",
       "72     تو حرف از کار گروهی نزن الدنگ با دو روز باز...      1\n",
       "73             لطفا در مورد دانا هم راهنمایی بفرمایید      0\n",
       "74                                       نگهداری فعلا      0\n",
       "75                    واقعا معتبره خبر من دوتاشو دارم      0\n",
       "76   درصد خوباشم نیگاه میکنه پدرسوخته بد برا ما اش...      1\n",
       "77                   سنیر دارند جمع میکنند از صف فروش      0\n",
       "78  دوستان پی ا س 4 خیلی بهتر از ایکس باکس هست ازن...      0\n",
       "79                          دوستان نوین رو چی کار کنم      0"
      ]
     },
     "execution_count": 10,
     "metadata": {},
     "output_type": "execute_result"
    }
   ],
   "source": [
    "#part of dataset\n",
    "df[70:80]"
   ]
  },
  {
   "cell_type": "code",
   "execution_count": 8,
   "metadata": {},
   "outputs": [
    {
     "data": {
      "image/png": "[encoded data removed]",
      "text/plain": [
       "<Figure size 432x288 with 1 Axes>"
      ]
     },
     "metadata": {
      "needs_background": "light"
     },
     "output_type": "display_data"
    }
   ],
   "source": [
    "plt.hist(df['label']);plt.title('labels');plt.xticks([0,1])\n",
    "plt.show()"
   ]
  },
  {
   "cell_type": "markdown",
   "metadata": {},
   "source": [
    "## preprocessing the data :"
   ]
  },
  {
   "cell_type": "code",
   "execution_count": 7,
   "metadata": {
    "id": "Ve_wFFy03Rla"
   },
   "outputs": [],
   "source": [
    "dftrain,dftest=train_test_split(df,test_size=0.1)"
   ]
  },
  {
   "cell_type": "code",
   "execution_count": 8,
   "metadata": {
    "id": "ydh7w4Ny3Riu"
   },
   "outputs": [],
   "source": [
    "tokenizer=Tokenizer()\n",
    "tokenizer.fit_on_texts(dftrain['text'])\n",
    "sectrain=tokenizer.texts_to_sequences(dftrain['text'])\n",
    "sectest=tokenizer.texts_to_sequences(dftest['text'])"
   ]
  },
  {
   "cell_type": "code",
   "execution_count": 9,
   "metadata": {
    "colab": {
     "base_uri": "https://localhost:8080/"
    },
    "id": "7xo9NOQo3Ra-",
    "outputId": "98496c50-26b1-4cdd-bc97-ee64f06ec496"
   },
   "outputs": [
    {
     "data": {
      "text/plain": [
       "347306"
      ]
     },
     "execution_count": 9,
     "metadata": {},
     "output_type": "execute_result"
    }
   ],
   "source": [
    "v=len(tokenizer.word_index)\n",
    "v"
   ]
  },
  {
   "cell_type": "code",
   "execution_count": 19,
   "metadata": {
    "id": "z8eYMVUd3RY4"
   },
   "outputs": [],
   "source": [
    "t=300\n",
    "xtrain=pad_sequences(sectrain,maxlen=t)\n",
    "xtest=pad_sequences(sectest,maxlen=t)"
   ]
  },
  {
   "cell_type": "code",
   "execution_count": 11,
   "metadata": {
    "id": "es1MYszJvitu"
   },
   "outputs": [],
   "source": [
    "ytrain=np.array(dftrain['label'])\n",
    "ytest=np.array(dftest['label'])"
   ]
  },
  {
   "cell_type": "code",
   "execution_count": 20,
   "metadata": {
    "colab": {
     "base_uri": "https://localhost:8080/"
    },
    "id": "UrxO9eq_cd5V",
    "outputId": "4c23e2f3-3db9-4bab-9e4d-b6af671453ea"
   },
   "outputs": [
    {
     "name": "stdout",
     "output_type": "stream",
     "text": [
      "(558006, 300)\n",
      "(62001, 300)\n",
      "(558006,)\n",
      "(62001,)\n"
     ]
    }
   ],
   "source": [
    "print(xtrain.shape)\n",
    "print(xtest.shape)\n",
    "print(ytrain.shape)\n",
    "print(ytest.shape)"
   ]
  },
  {
   "cell_type": "markdown",
   "metadata": {},
   "source": [
    "## preparing fasttext persian embedding vector :"
   ]
  },
  {
   "cell_type": "code",
   "execution_count": 3,
   "metadata": {
    "colab": {
     "base_uri": "https://localhost:8080/"
    },
    "id": "HEfwCG22CddH",
    "outputId": "fcafe161-1644-452b-c24f-811d89e2f715"
   },
   "outputs": [
    {
     "name": "stdout",
     "output_type": "stream",
     "text": [
      "--2022-09-11 14:53:17--  https://dl.fbaipublicfiles.com/fasttext/vectors-crawl/cc.fa.300.vec.gz\n",
      "Resolving dl.fbaipublicfiles.com (dl.fbaipublicfiles.com)... 172.67.9.4, 104.22.75.142, 104.22.74.142, ...\n",
      "Connecting to dl.fbaipublicfiles.com (dl.fbaipublicfiles.com)|172.67.9.4|:443... connected.\n",
      "HTTP request sent, awaiting response... 200 OK\n",
      "Length: 1258183862 (1.2G) [binary/octet-stream]\n",
      "Saving to: ‘cc.fa.300.vec.gz’\n",
      "\n",
      "cc.fa.300.vec.gz    100%[===================>]   1.17G  16.7MB/s    in 94s     \n",
      "\n",
      "2022-09-11 14:54:52 (12.8 MB/s) - ‘cc.fa.300.vec.gz’ saved [1258183862/1258183862]\n",
      "\n"
     ]
    },
    {
     "data": {
      "text/plain": []
     },
     "execution_count": 3,
     "metadata": {},
     "output_type": "execute_result"
    }
   ],
   "source": [
    "#download and unzip fasttext persian embedding vector\n",
    "!wget https://dl.fbaipublicfiles.com/fasttext/vectors-crawl/cc.fa.300.vec.gz\n",
    "gunzip('cc.fa.300.vec.gz')"
   ]
  },
  {
   "cell_type": "code",
   "execution_count": 4,
   "metadata": {
    "colab": {
     "base_uri": "https://localhost:8080/"
    },
    "id": "46WX6BsWA6Ta",
    "outputId": "7e167533-97bf-48af-caec-5e82d78f90bf"
   },
   "outputs": [
    {
     "name": "stdout",
     "output_type": "stream",
     "text": [
      "Found 2000000 word vectors.\n"
     ]
    }
   ],
   "source": [
    "embeddings_index = {}\n",
    "f = open('cc.fa.300.vec')\n",
    "for line in f:\n",
    "    values = line.split()\n",
    "    word = values[0]\n",
    "    coefs = np.asarray(values[1:], dtype='float32')\n",
    "    embeddings_index[word] = coefs\n",
    "f.close()\n",
    "print('Found %s word vectors.' % len(embeddings_index))"
   ]
  },
  {
   "cell_type": "code",
   "execution_count": 13,
   "metadata": {
    "id": "vNYR9Eb6xjhS"
   },
   "outputs": [],
   "source": [
    "embedding_matrix = np.zeros((v + 1, 300))\n",
    "for word, i in tokenizer.word_index.items():\n",
    "    embedding_vector = embeddings_index.get(word)\n",
    "    if embedding_vector is not None:\n",
    "        embedding_matrix[i] = embedding_vector"
   ]
  },
  {
   "cell_type": "markdown",
   "metadata": {},
   "source": [
    "## setting up the model :\n",
    "#### using a better model architecture than the last model"
   ]
  },
  {
   "cell_type": "code",
   "execution_count": 22,
   "metadata": {
    "id": "UAbX3DYXiBDn"
   },
   "outputs": [],
   "source": [
    "model=Sequential()\n",
    "\n",
    "model.add(Embedding(v+1,300,input_length=300,weights=[embedding_matrix],trainable=False))\n",
    "model.add(LSTM(128,dropout=0.2,return_sequences=True))\n",
    "model.add(LSTM(64,dropout=0.2,return_sequences=True))\n",
    "model.add(GlobalMaxPooling1D())\n",
    "model.add(Dense(1,activation='sigmoid'))"
   ]
  },
  {
   "cell_type": "code",
   "execution_count": 23,
   "metadata": {
    "colab": {
     "base_uri": "https://localhost:8080/"
    },
    "id": "moTId81liA_p",
    "outputId": "07304278-6a8e-4449-bcc1-c6bd09cdfad7"
   },
   "outputs": [
    {
     "name": "stdout",
     "output_type": "stream",
     "text": [
      "Model: \"sequential_1\"\n",
      "_________________________________________________________________\n",
      " Layer (type)                Output Shape              Param #   \n",
      "=================================================================\n",
      " embedding_1 (Embedding)     (None, 300, 300)          104192100 \n",
      "                                                                 \n",
      " lstm_2 (LSTM)               (None, 300, 128)          219648    \n",
      "                                                                 \n",
      " lstm_3 (LSTM)               (None, 300, 64)           49408     \n",
      "                                                                 \n",
      " global_max_pooling1d_1 (Glo  (None, 64)               0         \n",
      " balMaxPooling1D)                                                \n",
      "                                                                 \n",
      " dense_1 (Dense)             (None, 1)                 65        \n",
      "                                                                 \n",
      "=================================================================\n",
      "Total params: 104,461,221\n",
      "Trainable params: 269,121\n",
      "Non-trainable params: 104,192,100\n",
      "_________________________________________________________________\n"
     ]
    }
   ],
   "source": [
    "model.summary()"
   ]
  },
  {
   "cell_type": "code",
   "execution_count": 24,
   "metadata": {
    "id": "BiPbnvnX2vUd"
   },
   "outputs": [],
   "source": [
    "model.compile(loss=binary_crossentropy,optimizer='adam',metrics=['accuracy'])"
   ]
  },
  {
   "cell_type": "code",
   "execution_count": 25,
   "metadata": {
    "id": "3VjVV-2M2vON"
   },
   "outputs": [],
   "source": [
    "#saving weights on each epoch\n",
    "\n",
    "output_dir = 'model_output/LSTM'\n",
    "modelcheckpoint = ModelCheckpoint(filepath=output_dir+\"/weights.{epoch:02d}.hdf5\")\n",
    "if not os.path.exists(output_dir):\n",
    "    os.makedirs(output_dir)"
   ]
  },
  {
   "cell_type": "code",
   "execution_count": 26,
   "metadata": {
    "colab": {
     "base_uri": "https://localhost:8080/"
    },
    "id": "a2TZySLW2vIs",
    "outputId": "74effbed-a19d-4157-b502-a5adb9ffad3a"
   },
   "outputs": [
    {
     "name": "stdout",
     "output_type": "stream",
     "text": [
      "Epoch 1/6\n",
      "4360/4360 [==============================] - 206s 47ms/step - loss: 0.1049 - accuracy: 0.9611 - val_loss: 0.0746 - val_accuracy: 0.9736\n",
      "Epoch 2/6\n",
      "4360/4360 [==============================] - 209s 48ms/step - loss: 0.0741 - accuracy: 0.9736 - val_loss: 0.0670 - val_accuracy: 0.9766\n",
      "Epoch 3/6\n",
      "4360/4360 [==============================] - 206s 47ms/step - loss: 0.0650 - accuracy: 0.9773 - val_loss: 0.0587 - val_accuracy: 0.9795\n",
      "Epoch 4/6\n",
      "4360/4360 [==============================] - 204s 47ms/step - loss: 0.0588 - accuracy: 0.9796 - val_loss: 0.0557 - val_accuracy: 0.9804\n",
      "Epoch 5/6\n",
      "4360/4360 [==============================] - 205s 47ms/step - loss: 0.0545 - accuracy: 0.9812 - val_loss: 0.0553 - val_accuracy: 0.9810\n",
      "Epoch 6/6\n",
      "4360/4360 [==============================] - 205s 47ms/step - loss: 0.0514 - accuracy: 0.9824 - val_loss: 0.0535 - val_accuracy: 0.9817\n"
     ]
    }
   ],
   "source": [
    "r=model.fit(\n",
    "            xtrain,ytrain,\n",
    "            batch_size=128,\n",
    "            epochs=6,\n",
    "            validation_data=(xtest,ytest),\n",
    "            callbacks=[modelcheckpoint]\n",
    "           )"
   ]
  },
  {
   "cell_type": "markdown",
   "metadata": {},
   "source": [
    "## analysing model's behavior :"
   ]
  },
  {
   "cell_type": "code",
   "execution_count": 28,
   "metadata": {
    "colab": {
     "base_uri": "https://localhost:8080/",
     "height": 265
    },
    "id": "4QzaPP9z2vGF",
    "outputId": "2ab01d45-a340-4334-807f-890f134a0848"
   },
   "outputs": [
    {
     "data": {
      "image/png": "[encoded data removed]",
      "text/plain": [
       "<Figure size 432x288 with 1 Axes>"
      ]
     },
     "metadata": {
      "needs_background": "light"
     },
     "output_type": "display_data"
    }
   ],
   "source": [
    "plt.plot(r.history['loss'],label='losss')\n",
    "plt.plot(r.history['val_loss'],label='val_losss')\n",
    "plt.xticks(range(6))\n",
    "plt.legend();"
   ]
  },
  {
   "cell_type": "code",
   "execution_count": 29,
   "metadata": {
    "colab": {
     "base_uri": "https://localhost:8080/",
     "height": 265
    },
    "id": "-d8SArWv2vDb",
    "outputId": "47972860-9f20-44f5-d05b-42a09d3e1bab"
   },
   "outputs": [
    {
     "data": {
      "image/png": "[encoded data removed]",
      "text/plain": [
       "<Figure size 432x288 with 1 Axes>"
      ]
     },
     "metadata": {
      "needs_background": "light"
     },
     "output_type": "display_data"
    }
   ],
   "source": [
    "plt.plot(r.history['accuracy'],label='accuracy')\n",
    "plt.plot(r.history['val_accuracy'],label='val_accuracy')\n",
    "plt.xticks(range(6))\n",
    "plt.legend();"
   ]
  },
  {
   "cell_type": "code",
   "execution_count": 67,
   "metadata": {
    "id": "8NgThwkk2vA1"
   },
   "outputs": [],
   "source": [
    "#loading weights of best epoch\n",
    "\n",
    "model.load_weights(output_dir+\"/weights.04.hdf5\")"
   ]
  },
  {
   "cell_type": "code",
   "execution_count": 31,
   "metadata": {
    "id": "1jeGS3nj8hb4"
   },
   "outputs": [],
   "source": [
    "tpr=model.predict(xtest)"
   ]
  },
  {
   "cell_type": "code",
   "execution_count": 32,
   "metadata": {
    "colab": {
     "base_uri": "https://localhost:8080/",
     "height": 265
    },
    "id": "TyCKyuf78S7G",
    "outputId": "20f099b1-7303-4588-bb8d-8a2263bd47f0"
   },
   "outputs": [
    {
     "data": {
      "image/png": "[encoded data removed]",
      "text/plain": [
       "<Figure size 432x288 with 1 Axes>"
      ]
     },
     "metadata": {
      "needs_background": "light"
     },
     "output_type": "display_data"
    }
   ],
   "source": [
    "plt.hist(tpr)\n",
    "_ = plt.axvline(x=0.5, color='orange')"
   ]
  },
  {
   "cell_type": "markdown",
   "metadata": {},
   "source": [
    "## AUC score :\n",
    "#### better AUC score than the last model"
   ]
  },
  {
   "cell_type": "code",
   "execution_count": 33,
   "metadata": {
    "colab": {
     "base_uri": "https://localhost:8080/",
     "height": 38
    },
    "id": "VUo6HK-G2u9l",
    "outputId": "0eb1c2ef-40ec-4ebb-8b91-148fd2275e48",
    "scrolled": true
   },
   "outputs": [
    {
     "data": {
      "application/vnd.google.colaboratory.intrinsic+json": {
       "type": "string"
      },
      "text/plain": [
       "'99.62'"
      ]
     },
     "execution_count": 33,
     "metadata": {},
     "output_type": "execute_result"
    }
   ],
   "source": [
    "\"{:0.2f}\".format(roc_auc_score(ytest,tpr)*100.0)"
   ]
  },
  {
   "cell_type": "markdown",
   "metadata": {},
   "source": [
    "## testing model :"
   ]
  },
  {
   "cell_type": "code",
   "execution_count": 34,
   "metadata": {
    "id": "hPJGO2-b2u5E"
   },
   "outputs": [],
   "source": [
    "def predict(st):                               \n",
    "    st=[st]\n",
    "    st=tokenizer.texts_to_sequences(st)\n",
    "    st=pad_sequences(st,maxlen=t)\n",
    "    v=model.predict(st)\n",
    "    if v[0][0]>0.5: return 'insult',v[0][0]\n",
    "    else: return 'normal',v[0][0]"
   ]
  },
  {
   "cell_type": "code",
   "execution_count": 68,
   "metadata": {
    "colab": {
     "base_uri": "https://localhost:8080/"
    },
    "id": "lTrWekYvMX1j",
    "outputId": "2816ae7f-b67c-48ef-9a37-8b2bbe66b2f3"
   },
   "outputs": [
    {
     "data": {
      "text/plain": [
       "('normal', 0.33164203)"
      ]
     },
     "execution_count": 68,
     "metadata": {},
     "output_type": "execute_result"
    }
   ],
   "source": [
    "predict('واقعا که خاک بریزن تو چاله')"
   ]
  },
  {
   "cell_type": "code",
   "execution_count": 69,
   "metadata": {
    "colab": {
     "base_uri": "https://localhost:8080/"
    },
    "id": "OVwlu37TMXr4",
    "outputId": "55064b57-6030-4227-c04d-be9f4b83290a"
   },
   "outputs": [
    {
     "data": {
      "text/plain": [
       "('insult', 0.9853952)"
      ]
     },
     "execution_count": 69,
     "metadata": {},
     "output_type": "execute_result"
    }
   ],
   "source": [
    "predict('واقعا که خاک بریزن تو سرت')"
   ]
  },
  {
   "cell_type": "code",
   "execution_count": 70,
   "metadata": {
    "colab": {
     "base_uri": "https://localhost:8080/"
    },
    "id": "qWgVjygDMPyk",
    "outputId": "2b77e8d4-9fbf-49c7-e5fa-335684310560"
   },
   "outputs": [
    {
     "data": {
      "text/plain": [
       "('normal', 0.23938324)"
      ]
     },
     "execution_count": 70,
     "metadata": {},
     "output_type": "execute_result"
    }
   ],
   "source": [
    "predict('زر و نقره')"
   ]
  },
  {
   "cell_type": "code",
   "execution_count": 71,
   "metadata": {
    "colab": {
     "base_uri": "https://localhost:8080/"
    },
    "id": "23BFAba29Xr1",
    "outputId": "f308ab4f-8477-4038-c0d7-ae8ca071812f"
   },
   "outputs": [
    {
     "data": {
      "text/plain": [
       "('insult', 0.9737915)"
      ]
     },
     "execution_count": 71,
     "metadata": {},
     "output_type": "execute_result"
    }
   ],
   "source": [
    "predict('زر نزن')"
   ]
  },
  {
   "cell_type": "markdown",
   "metadata": {},
   "source": [
    "## latest issues fixed :"
   ]
  },
  {
   "cell_type": "code",
   "execution_count": 72,
   "metadata": {
    "colab": {
     "base_uri": "https://localhost:8080/"
    },
    "id": "ifs07XYX-RiJ",
    "outputId": "1d2d2a25-b736-4b37-b737-be8df6868953"
   },
   "outputs": [
    {
     "data": {
      "text/plain": [
       "('normal', 0.37942293)"
      ]
     },
     "execution_count": 72,
     "metadata": {},
     "output_type": "execute_result"
    }
   ],
   "source": [
    "predict('جاتا')"
   ]
  },
  {
   "cell_type": "code",
   "execution_count": 73,
   "metadata": {
    "colab": {
     "base_uri": "https://localhost:8080/"
    },
    "id": "5TZHaaIt-Rce",
    "outputId": "335a4d1c-8bb8-4e49-a798-d3fcca0a986a"
   },
   "outputs": [
    {
     "data": {
      "text/plain": [
       "('normal', 0.107946)"
      ]
     },
     "execution_count": 73,
     "metadata": {},
     "output_type": "execute_result"
    }
   ],
   "source": [
    "predict('سپیده')"
   ]
  },
  {
   "cell_type": "code",
   "execution_count": null,
   "metadata": {
    "id": "7_PsWFTp8z3J"
   },
   "outputs": [],
   "source": []
  }
 ],
 "metadata": {
  "accelerator": "GPU",
  "colab": {
   "collapsed_sections": [],
   "provenance": []
  },
  "gpuClass": "standard",
  "kernelspec": {
   "display_name": "Python 3 (ipykernel)",
   "language": "python",
   "name": "python3"
  },
  "language_info": {
   "codemirror_mode": {
    "name": "ipython",
    "version": 3
   },
   "file_extension": ".py",
   "mimetype": "text/x-python",
   "name": "python",
   "nbconvert_exporter": "python",
   "pygments_lexer": "ipython3",
   "version": "3.9.12"
  }
 },
 "nbformat": 4,
 "nbformat_minor": 1
}
