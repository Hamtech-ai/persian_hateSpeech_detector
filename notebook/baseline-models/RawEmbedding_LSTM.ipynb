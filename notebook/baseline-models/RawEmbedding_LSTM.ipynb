{
 "cells": [
  {
   "cell_type": "code",
   "execution_count": 6,
   "metadata": {
    "id": "S71Yr-rQcntd"
   },
   "outputs": [],
   "source": [
    "import matplotlib.pyplot as plt\n",
    "import pandas as pd \n",
    "import numpy as np\n",
    "from tensorflow.keras.models import Sequential\n",
    "from tensorflow.keras.layers import Bidirectional,GlobalMaxPooling1D\n",
    "from tensorflow.keras.layers import Embedding,LSTM,Dropout,Dense,SpatialDropout1D\n",
    "from tensorflow.keras.callbacks import ModelCheckpoint\n",
    "from tensorflow.keras.losses import binary_crossentropy,SparseCategoricalCrossentropy,categorical_crossentropy\n",
    "from tensorflow.keras.preprocessing.text import Tokenizer\n",
    "from tensorflow.keras.preprocessing.sequence import pad_sequences\n",
    "from sklearn.metrics import roc_auc_score\n",
    "from sklearn.model_selection import train_test_split\n",
    "import os"
   ]
  },
  {
   "cell_type": "code",
   "execution_count": 2,
   "metadata": {
    "id": "dFAukOK5a85U"
   },
   "outputs": [],
   "source": [
    "import zipfile\n",
    "with zipfile.ZipFile('alldata.zip', 'r') as zip_ref:\n",
    "    zip_ref.extractall()"
   ]
  },
  {
   "cell_type": "markdown",
   "metadata": {},
   "source": [
    "# version 1 of dataset"
   ]
  },
  {
   "cell_type": "code",
   "execution_count": 7,
   "metadata": {
    "colab": {
     "base_uri": "https://localhost:8080/",
     "height": 424
    },
    "id": "riai8Sca3PWU",
    "outputId": "3cf60a52-d535-46a5-eb55-723576988779"
   },
   "outputs": [
    {
     "name": "stdout",
     "output_type": "stream",
     "text": [
      "<class 'pandas.core.frame.DataFrame'>\n",
      "RangeIndex: 503487 entries, 0 to 503486\n",
      "Data columns (total 2 columns):\n",
      " #   Column  Non-Null Count   Dtype \n",
      "---  ------  --------------   ----- \n",
      " 0   text    503487 non-null  object\n",
      " 1   label   503487 non-null  int64 \n",
      "dtypes: int64(1), object(1)\n",
      "memory usage: 7.7+ MB\n"
     ]
    }
   ],
   "source": [
    "df=pd.read_csv('data.csv')\n",
    "df.info()"
   ]
  },
  {
   "cell_type": "code",
   "execution_count": 10,
   "metadata": {
    "scrolled": true
   },
   "outputs": [
    {
     "data": {
      "text/html": [
       "<div>\n",
       "<style scoped>\n",
       "    .dataframe tbody tr th:only-of-type {\n",
       "        vertical-align: middle;\n",
       "    }\n",
       "\n",
       "    .dataframe tbody tr th {\n",
       "        vertical-align: top;\n",
       "    }\n",
       "\n",
       "    .dataframe thead th {\n",
       "        text-align: right;\n",
       "    }\n",
       "</style>\n",
       "<table border=\"1\" class=\"dataframe\">\n",
       "  <thead>\n",
       "    <tr style=\"text-align: right;\">\n",
       "      <th></th>\n",
       "      <th>text</th>\n",
       "      <th>label</th>\n",
       "    </tr>\n",
       "  </thead>\n",
       "  <tbody>\n",
       "    <tr>\n",
       "      <th>43</th>\n",
       "      <td>وقتی شرکت ها  به بورس واگذار میشه کاش مدیریت ...</td>\n",
       "      <td>0</td>\n",
       "    </tr>\n",
       "    <tr>\n",
       "      <th>44</th>\n",
       "      <td>کدوم لاشی</td>\n",
       "      <td>1</td>\n",
       "    </tr>\n",
       "    <tr>\n",
       "      <th>45</th>\n",
       "      <td>اقا رضا از شکیبایی و وقت و زحماتی  که برا پاس...</td>\n",
       "      <td>0</td>\n",
       "    </tr>\n",
       "    <tr>\n",
       "      <th>46</th>\n",
       "      <td>سلام افرا ده درصد در ضررم کی میخواد رشدشو شرو...</td>\n",
       "      <td>0</td>\n",
       "    </tr>\n",
       "    <tr>\n",
       "      <th>47</th>\n",
       "      <td>اونقدرام اصن لاشی نیستیم باو</td>\n",
       "      <td>1</td>\n",
       "    </tr>\n",
       "    <tr>\n",
       "      <th>48</th>\n",
       "      <td>فقط میانگین</td>\n",
       "      <td>0</td>\n",
       "    </tr>\n",
       "    <tr>\n",
       "      <th>49</th>\n",
       "      <td>سیگنال خرید دادن نفروشششششششششش</td>\n",
       "      <td>0</td>\n",
       "    </tr>\n",
       "    <tr>\n",
       "      <th>50</th>\n",
       "      <td>تو سهام عدالت نیست سهم مطمنیه</td>\n",
       "      <td>0</td>\n",
       "    </tr>\n",
       "    <tr>\n",
       "      <th>51</th>\n",
       "      <td>لطفا کسانی که باهاش کار کردن کمکم کنن یه نقد ک...</td>\n",
       "      <td>0</td>\n",
       "    </tr>\n",
       "    <tr>\n",
       "      <th>52</th>\n",
       "      <td>دوستان توجه داشته باشندبازار سرمایه یکی از پر...</td>\n",
       "      <td>0</td>\n",
       "    </tr>\n",
       "  </tbody>\n",
       "</table>\n",
       "</div>"
      ],
      "text/plain": [
       "                                                 text  label\n",
       "43   وقتی شرکت ها  به بورس واگذار میشه کاش مدیریت ...      0\n",
       "44                                          کدوم لاشی      1\n",
       "45   اقا رضا از شکیبایی و وقت و زحماتی  که برا پاس...      0\n",
       "46   سلام افرا ده درصد در ضررم کی میخواد رشدشو شرو...      0\n",
       "47                      اونقدرام اصن لاشی نیستیم باو       1\n",
       "48                                        فقط میانگین      0\n",
       "49                    سیگنال خرید دادن نفروشششششششششش      0\n",
       "50                      تو سهام عدالت نیست سهم مطمنیه      0\n",
       "51  لطفا کسانی که باهاش کار کردن کمکم کنن یه نقد ک...      0\n",
       "52   دوستان توجه داشته باشندبازار سرمایه یکی از پر...      0"
      ]
     },
     "execution_count": 10,
     "metadata": {},
     "output_type": "execute_result"
    }
   ],
   "source": [
    "#part of dataset\n",
    "df[43:53]"
   ]
  },
  {
   "cell_type": "code",
   "execution_count": 13,
   "metadata": {},
   "outputs": [
    {
     "data": {
      "image/png": "[encoded data removed]",
      "text/plain": [
       "<Figure size 432x288 with 1 Axes>"
      ]
     },
     "metadata": {
      "needs_background": "light"
     },
     "output_type": "display_data"
    }
   ],
   "source": [
    "plt.hist(df['label']);plt.title('labels');plt.xticks([0,1])\n",
    "plt.show()"
   ]
  },
  {
   "cell_type": "markdown",
   "metadata": {},
   "source": [
    "## preprocessing the data :"
   ]
  },
  {
   "cell_type": "code",
   "execution_count": 68,
   "metadata": {
    "id": "Ve_wFFy03Rla"
   },
   "outputs": [],
   "source": [
    "dftrain,dftest=train_test_split(df,test_size=0.1)"
   ]
  },
  {
   "cell_type": "code",
   "execution_count": 69,
   "metadata": {
    "id": "ydh7w4Ny3Riu"
   },
   "outputs": [],
   "source": [
    "tokenizer=Tokenizer()\n",
    "tokenizer.fit_on_texts(dftrain['text'])\n",
    "sectrain=tokenizer.texts_to_sequences(dftrain['text'])\n",
    "sectest=tokenizer.texts_to_sequences(dftest['text'])"
   ]
  },
  {
   "cell_type": "code",
   "execution_count": 9,
   "metadata": {
    "colab": {
     "base_uri": "https://localhost:8080/"
    },
    "id": "7xo9NOQo3Ra-",
    "outputId": "fa204531-4513-4a30-c2ca-5c6d698867f9"
   },
   "outputs": [
    {
     "data": {
      "text/plain": [
       "345071"
      ]
     },
     "execution_count": 9,
     "metadata": {},
     "output_type": "execute_result"
    }
   ],
   "source": [
    "v=len(tokenizer.word_index)\n",
    "v"
   ]
  },
  {
   "cell_type": "code",
   "execution_count": 73,
   "metadata": {
    "id": "z8eYMVUd3RY4"
   },
   "outputs": [],
   "source": [
    "xtrain=pad_sequences(sectrain)\n",
    "t=xtrain.shape[1]\n",
    "xtest=pad_sequences(sectest,maxlen=t)"
   ]
  },
  {
   "cell_type": "code",
   "execution_count": 77,
   "metadata": {
    "colab": {
     "base_uri": "https://localhost:8080/"
    },
    "id": "es1MYszJvitu",
    "outputId": "9d9cb985-b729-4db0-f430-1fa88d09fb7f"
   },
   "outputs": [
    {
     "data": {
      "text/plain": [
       "array([0, 0, 0, ..., 0, 0, 0])"
      ]
     },
     "execution_count": 77,
     "metadata": {},
     "output_type": "execute_result"
    }
   ],
   "source": [
    "ytrain=np.array(dftrain['label'])\n",
    "ytrain"
   ]
  },
  {
   "cell_type": "code",
   "execution_count": 78,
   "metadata": {
    "colab": {
     "base_uri": "https://localhost:8080/"
    },
    "id": "OAOf1bdjvioO",
    "outputId": "68fe7146-7f9e-4e2e-e7bd-659b06f24913"
   },
   "outputs": [
    {
     "data": {
      "text/plain": [
       "array([0, 1, 1, ..., 0, 0, 0])"
      ]
     },
     "execution_count": 78,
     "metadata": {},
     "output_type": "execute_result"
    }
   ],
   "source": [
    "ytest=np.array(dftest['label'])\n",
    "ytest"
   ]
  },
  {
   "cell_type": "code",
   "execution_count": 12,
   "metadata": {},
   "outputs": [
    {
     "name": "stdout",
     "output_type": "stream",
     "text": [
      "(453138, 1434)\n",
      "(50349, 1434)\n",
      "(453138,)\n",
      "(50349,)\n"
     ]
    }
   ],
   "source": [
    "print(xtrain.shape)\n",
    "print(xtest.shape)\n",
    "print(ytrain.shape)\n",
    "print(ytest.shape)"
   ]
  },
  {
   "cell_type": "markdown",
   "metadata": {},
   "source": [
    "## setting up the model :"
   ]
  },
  {
   "cell_type": "code",
   "execution_count": 87,
   "metadata": {
    "id": "UAbX3DYXiBDn"
   },
   "outputs": [],
   "source": [
    "model=Sequential()\n",
    "\n",
    "model.add(Embedding(v+1,64,input_length=t))\n",
    "model.add(LSTM(128,dropout=0.2,return_sequences=True))\n",
    "model.add(LSTM(128,dropout=0.2,return_sequences=True))\n",
    "model.add(LSTM(64,dropout=0.2,return_sequences=True))\n",
    "model.add(GlobalMaxPooling1D())\n",
    "model.add(Dense(1,activation='sigmoid'))"
   ]
  },
  {
   "cell_type": "code",
   "execution_count": 88,
   "metadata": {
    "colab": {
     "base_uri": "https://localhost:8080/"
    },
    "id": "moTId81liA_p",
    "outputId": "ab1ca9a7-b29f-4df8-9f3b-9b2247b12184"
   },
   "outputs": [
    {
     "name": "stdout",
     "output_type": "stream",
     "text": [
      "Model: \"sequential_2\"\n",
      "_________________________________________________________________\n",
      " Layer (type)                Output Shape              Param #   \n",
      "=================================================================\n",
      " embedding_2 (Embedding)     (None, 1434, 64)          22084608  \n",
      "                                                                 \n",
      " lstm_6 (LSTM)               (None, 1434, 128)         98816     \n",
      "                                                                 \n",
      " lstm_7 (LSTM)               (None, 1434, 128)         131584    \n",
      "                                                                 \n",
      " lstm_8 (LSTM)               (None, 1434, 64)          49408     \n",
      "                                                                 \n",
      " global_max_pooling1d_2 (Glo  (None, 64)               0         \n",
      " balMaxPooling1D)                                                \n",
      "                                                                 \n",
      " dense_2 (Dense)             (None, 1)                 65        \n",
      "                                                                 \n",
      "=================================================================\n",
      "Total params: 22,364,481\n",
      "Trainable params: 22,364,481\n",
      "Non-trainable params: 0\n",
      "_________________________________________________________________\n"
     ]
    }
   ],
   "source": [
    "model.summary()"
   ]
  },
  {
   "cell_type": "code",
   "execution_count": 89,
   "metadata": {
    "id": "BiPbnvnX2vUd"
   },
   "outputs": [],
   "source": [
    "model.compile(loss=binary_crossentropy,optimizer='adam',metrics=['accuracy'])"
   ]
  },
  {
   "cell_type": "code",
   "execution_count": 90,
   "metadata": {
    "id": "3VjVV-2M2vON"
   },
   "outputs": [],
   "source": [
    "#saving weights on each epoch\n",
    "\n",
    "output_dir = 'model_output/LSTM'\n",
    "modelcheckpoint = ModelCheckpoint(filepath=output_dir+\"/weights.{epoch:02d}.hdf5\")\n",
    "if not os.path.exists(output_dir):\n",
    "    os.makedirs(output_dir)"
   ]
  },
  {
   "cell_type": "code",
   "execution_count": 91,
   "metadata": {
    "colab": {
     "base_uri": "https://localhost:8080/"
    },
    "id": "a2TZySLW2vIs",
    "outputId": "4e5d058e-f583-43bf-d7b9-7b4620e25f1a"
   },
   "outputs": [
    {
     "name": "stdout",
     "output_type": "stream",
     "text": [
      "Epoch 1/3\n",
      "4319/4319 [==============================] - 1211s 279ms/step - loss: 0.0665 - accuracy: 0.9774 - val_loss: 0.0421 - val_accuracy: 0.9867\n",
      "Epoch 2/3\n",
      "4319/4319 [==============================] - 1222s 283ms/step - loss: 0.0318 - accuracy: 0.9900 - val_loss: 0.0395 - val_accuracy: 0.9877\n",
      "Epoch 3/3\n",
      "4319/4319 [==============================] - 1222s 283ms/step - loss: 0.0227 - accuracy: 0.9932 - val_loss: 0.0439 - val_accuracy: 0.9868\n"
     ]
    }
   ],
   "source": [
    "r=model.fit(\n",
    "    xtrain,ytrain,\n",
    "    batch_size=128,\n",
    "    epochs=3,\n",
    "    validation_data=(xtest,ytest),\n",
    "    callbacks=[modelcheckpoint],\n",
    ")"
   ]
  },
  {
   "cell_type": "markdown",
   "metadata": {},
   "source": [
    "## analysing model's behavior :"
   ]
  },
  {
   "cell_type": "code",
   "execution_count": 92,
   "metadata": {
    "colab": {
     "base_uri": "https://localhost:8080/",
     "height": 265
    },
    "id": "4QzaPP9z2vGF",
    "outputId": "4e22f51b-26ed-4cc2-8a3f-9d0bbfc81a4d"
   },
   "outputs": [
    {
     "data": {
      "image/png": "[encoded data removed]",
      "text/plain": [
       "<Figure size 432x288 with 1 Axes>"
      ]
     },
     "metadata": {
      "needs_background": "light"
     },
     "output_type": "display_data"
    }
   ],
   "source": [
    "plt.plot(r.history['loss'],label='losss')\n",
    "plt.plot(r.history['val_loss'],label='val_losss')\n",
    "plt.legend();"
   ]
  },
  {
   "cell_type": "code",
   "execution_count": 93,
   "metadata": {
    "colab": {
     "base_uri": "https://localhost:8080/",
     "height": 265
    },
    "id": "-d8SArWv2vDb",
    "outputId": "f36bbfec-d6a5-43d5-9221-79500f418291"
   },
   "outputs": [
    {
     "data": {
      "image/png": "[encoded data removed]",
      "text/plain": [
       "<Figure size 432x288 with 1 Axes>"
      ]
     },
     "metadata": {
      "needs_background": "light"
     },
     "output_type": "display_data"
    }
   ],
   "source": [
    "plt.plot(r.history['accuracy'],label='accuracy')\n",
    "plt.plot(r.history['val_accuracy'],label='val_accuracy')\n",
    "plt.legend();"
   ]
  },
  {
   "cell_type": "code",
   "execution_count": 94,
   "metadata": {
    "id": "8NgThwkk2vA1"
   },
   "outputs": [],
   "source": [
    "#loading weights of best epoch\n",
    "\n",
    "model.load_weights(output_dir+\"/weights.02.hdf5\")"
   ]
  },
  {
   "cell_type": "code",
   "execution_count": 12,
   "metadata": {},
   "outputs": [],
   "source": [
    "tpr=model.predict(xtest)"
   ]
  },
  {
   "cell_type": "code",
   "execution_count": 95,
   "metadata": {
    "colab": {
     "base_uri": "https://localhost:8080/",
     "height": 266
    },
    "id": "TyCKyuf78S7G",
    "outputId": "ba1f16dc-366b-4531-f907-f211e1ccd6b3"
   },
   "outputs": [
    {
     "data": {
      "image/png": "[encoded data removed]",
      "text/plain": [
       "<Figure size 432x288 with 1 Axes>"
      ]
     },
     "metadata": {
      "needs_background": "light"
     },
     "output_type": "display_data"
    }
   ],
   "source": [
    "#analysing model confidence on test dataset\n",
    "\n",
    "plt.hist(tpr)\n",
    "_ = plt.axvline(x=0.5, color='orange')"
   ]
  },
  {
   "cell_type": "markdown",
   "metadata": {},
   "source": [
    "## AUC score :"
   ]
  },
  {
   "cell_type": "code",
   "execution_count": 19,
   "metadata": {
    "colab": {
     "base_uri": "https://localhost:8080/",
     "height": 38
    },
    "id": "VUo6HK-G2u9l",
    "outputId": "0cf54046-ea7f-401f-b94c-0281d8393327",
    "scrolled": true
   },
   "outputs": [
    {
     "data": {
      "text/plain": [
       "'91.24'"
      ]
     },
     "execution_count": 19,
     "metadata": {},
     "output_type": "execute_result"
    }
   ],
   "source": [
    "\"{:0.2f}\".format(roc_auc_score(ytest,ptr)*100.0)"
   ]
  },
  {
   "cell_type": "markdown",
   "metadata": {},
   "source": [
    "## analysing heavy words :"
   ]
  },
  {
   "cell_type": "code",
   "execution_count": 120,
   "metadata": {
    "id": "lA4JEt6Z-Llt"
   },
   "outputs": [],
   "source": [
    "w=model.layers[0].get_weights()[0]\n",
    "word_idx=tokenizer.word_index"
   ]
  },
  {
   "cell_type": "code",
   "execution_count": 17,
   "metadata": {
    "colab": {
     "base_uri": "https://localhost:8080/"
    },
    "id": "CgtsvXRv8z8v",
    "outputId": "f2add080-7498-471b-de96-55216d1bf150"
   },
   "outputs": [
    {
     "name": "stdout",
     "output_type": "stream",
     "text": [
      "most heavy words:\n",
      "\n",
      "سهامی :  0.2206471\n",
      "وقتتون :  0.21926333\n",
      "وسدید :  0.21911833\n",
      "بهترینه :  0.21898004\n",
      "دکپسول :  0.21831396\n",
      "ونیرو :  0.21826987\n",
      "فروختم :  0.21788228\n",
      "امیدواری :  0.21782586\n",
      "بازمیشه :  0.2177939\n",
      "معاملاتش :  0.21762535\n"
     ]
    }
   ],
   "source": [
    "treshhold=0.0\n",
    "\n",
    "print('most heavy words:\\n')\n",
    "word_weights=[]\n",
    "for word,idx in word_idx.items():\n",
    "    weight=w[idx,0]\n",
    "    if weight > treshhold:\n",
    "        word_weights.append((word,weight))\n",
    "word_weights=sorted(word_weights,key=lambda x:-x[1])\n",
    "for i in range(10):\n",
    "    word,weight=word_weights[i]\n",
    "    print(word,': ',weight)"
   ]
  },
  {
   "cell_type": "code",
   "execution_count": 3,
   "metadata": {
    "colab": {
     "base_uri": "https://localhost:8080/"
    },
    "id": "0VGgxqVn8z6I",
    "outputId": "6538d5f0-7ce1-4c86-92d8-99e4a2e21732"
   },
   "outputs": [
    {
     "name": "stdout",
     "output_type": "stream",
     "text": [
      "most heavy words:\n",
      "\n",
      "سپیده :  -0.25180194\n",
      "کصکش :  -0.24851441\n",
      "اسپرم :  -0.23244223\n",
      "گاییدن :  -0.23112479\n",
      "پدرسگ :  -0.22431836\n",
      "تخمم :  -0.21835588\n",
      "یگانه :  -0.21538797\n",
      "مردار :  -0.21427603\n",
      "اوغان :  -0.21274918\n",
      "جاتا :  -0.21023053\n"
     ]
    }
   ],
   "source": [
    "treshhold=0.0\n",
    "\n",
    "print('most heavy words:\\n')\n",
    "word_weights=[]\n",
    "for word,idx in word_idx.items():\n",
    "    weight=w[idx,0]\n",
    "    if weight < -treshhold:\n",
    "        word_weights.append((word,weight))\n",
    "word_weights=sorted(word_weights,key=lambda x:x[1])\n",
    "for i in range(10):\n",
    "    word,weight=word_weights[i]\n",
    "    print(word,': ',weight)"
   ]
  },
  {
   "cell_type": "markdown",
   "metadata": {},
   "source": [
    "## model's weaknesses : \n",
    "### special typos or names from \"insults\" dataset"
   ]
  },
  {
   "cell_type": "code",
   "execution_count": 6,
   "metadata": {},
   "outputs": [],
   "source": [
    "def predict(st):                               \n",
    "    st=[st]\n",
    "    st=tokenizer.texts_to_sequences(st)\n",
    "    st=pad_sequences(st,maxlen=t)\n",
    "    v=model.predict(st)\n",
    "    if v[0][0]>0.5: return 'insult',v[0][0]\n",
    "    else: return 'normal',v[0][0]"
   ]
  },
  {
   "cell_type": "code",
   "execution_count": 9,
   "metadata": {},
   "outputs": [
    {
     "name": "stdout",
     "output_type": "stream",
     "text": [
      "1/1 [==============================] - 0s 150ms/step\n"
     ]
    },
    {
     "data": {
      "text/plain": [
       "('insult', 0.82125616)"
      ]
     },
     "execution_count": 9,
     "metadata": {},
     "output_type": "execute_result"
    }
   ],
   "source": [
    "predict('سپیده')"
   ]
  },
  {
   "cell_type": "code",
   "execution_count": 10,
   "metadata": {},
   "outputs": [
    {
     "name": "stdout",
     "output_type": "stream",
     "text": [
      "1/1 [==============================] - 0s 133ms/step\n"
     ]
    },
    {
     "data": {
      "text/plain": [
       "('insult', 0.9864076)"
      ]
     },
     "execution_count": 10,
     "metadata": {},
     "output_type": "execute_result"
    }
   ],
   "source": [
    "predict('جاتا')"
   ]
  },
  {
   "cell_type": "markdown",
   "metadata": {},
   "source": [
    "## model's strengths :\n",
    "### understanding persian offensive words and phrases"
   ]
  },
  {
   "cell_type": "code",
   "execution_count": 18,
   "metadata": {},
   "outputs": [
    {
     "name": "stdout",
     "output_type": "stream",
     "text": [
      "1/1 [==============================] - 0s 136ms/step\n"
     ]
    },
    {
     "data": {
      "text/plain": [
       "('normal', 0.19027853)"
      ]
     },
     "execution_count": 18,
     "metadata": {},
     "output_type": "execute_result"
    }
   ],
   "source": [
    "predict('واقعا که خاک بریزن تو چاله')"
   ]
  },
  {
   "cell_type": "code",
   "execution_count": 19,
   "metadata": {},
   "outputs": [
    {
     "name": "stdout",
     "output_type": "stream",
     "text": [
      "1/1 [==============================] - 0s 138ms/step\n"
     ]
    },
    {
     "data": {
      "text/plain": [
       "('insult', 0.91034937)"
      ]
     },
     "execution_count": 19,
     "metadata": {},
     "output_type": "execute_result"
    }
   ],
   "source": [
    "predict('واقعا که خاک بریزن تو سرت')"
   ]
  },
  {
   "cell_type": "code",
   "execution_count": null,
   "metadata": {},
   "outputs": [],
   "source": []
  }
 ],
 "metadata": {
  "accelerator": "GPU",
  "colab": {
   "collapsed_sections": [],
   "provenance": []
  },
  "gpuClass": "standard",
  "kernelspec": {
   "display_name": "Python 3 (ipykernel)",
   "language": "python",
   "name": "python3"
  },
  "language_info": {
   "codemirror_mode": {
    "name": "ipython",
    "version": 3
   },
   "file_extension": ".py",
   "mimetype": "text/x-python",
   "name": "python",
   "nbconvert_exporter": "python",
   "pygments_lexer": "ipython3",
   "version": "3.9.12"
  },
  "vscode": {
   "interpreter": {
    "hash": "a81ef3aec0975f5cb7a43d91b3443c5238becd6711a17ac01470e443218f01bc"
   }
  }
 },
 "nbformat": 4,
 "nbformat_minor": 1
}
